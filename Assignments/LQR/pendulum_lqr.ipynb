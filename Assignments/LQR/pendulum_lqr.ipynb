{
 "cells": [
  {
   "cell_type": "markdown",
   "metadata": {},
   "source": [
    "## Assignment 5"
   ]
  },
  {
   "cell_type": "markdown",
   "metadata": {},
   "source": [
    "In this assignment, we will linearize a nonlinear dynamical model to perform trajectory tracking using Linear Quadratic Regulator (LQR). Consider the following second order nonlinear differential equation for the **inverted pendulum** model. Find the installation information for the python control package at https://python-control.readthedocs.io/en/0.9.0/intro.html.\n",
    "\n",
    "Let $g$ and $L$ are the gravitational acceleration, the length of the pendulum arm repectively and,\n",
    "\n",
    "$$ f: \\ddot{\\theta} = - \\frac{g}{L} sin(\\theta) -d\\dot{\\theta} + u,$$\n",
    "\n",
    "where $u$ is the torque input provided by the motor attached to the pendulum arm.\n",
    "By changing $u$ we can control the pendulum's state over the 2-D plane, $\\mathbb{R}^2$. Here $d$ denotes a damping coefficient, which induce a resistance to the swing of the pendulum.\n",
    "<img src=\"pendulum.png\" alt=\"Pendulum\" width=\"200\"/>"
   ]
  },
  {
   "cell_type": "markdown",
   "metadata": {},
   "source": [
    "**Part (a)**\n",
    "Consider the two system states as the angle $\\theta$ and the angular velocity $\\dot{\\theta}$. Convert $f$ into two first order nonlinear differential equations for describing the evolution of the each state. Show all the steps of the coversion. (10 Points)"
   ]
  },
  {
   "cell_type": "markdown",
   "metadata": {},
   "source": [
    "**Part (b)**\n",
    "Let $f_1$ and $f_2$ be the two differential equations. Linearize them using the first order Taylor series expansion to obtain the **algebraic** $A$ and $B$ matrices. Use the shorthand method discussed in the class (slide 9,10 of linear dynamical systems lecture part 2). Show all the steps of the partial differentiation. Discuss why is it important to linearize a nonlinear dynamical system. (15 points)"
   ]
  },
  {
   "cell_type": "markdown",
   "metadata": {},
   "source": [
    "**Part (c)**\n",
    "Consider the two fixed points of the pendulum $\\theta = 0$ and $\\theta = \\pi$ radians. Substitute each fixed point to algebraic $A$, $B$ to obtain the linearized dynamical systems near the two fixed points, $A_u$ and $A_d$. \n",
    "\n",
    "Use $L = 2m$, $g = 10ms^{-2}$, $d = 1$. (10 points)"
   ]
  },
  {
   "cell_type": "markdown",
   "metadata": {},
   "source": [
    "**Part (d)**\n",
    "At which of these fixed points does the pendulum become stable? Support your argument by using the concept of stability of linear dynamical systems. (20 points)"
   ]
  },
  {
   "cell_type": "markdown",
   "metadata": {},
   "source": [
    "**Part (e)**\n",
    "Simulate the system for 10 seconds at upper ($\\theta = 0$) and lower ($\\theta = \\pi$) fixed points with an initial angular velocity $\\dot{\\theta} = 0.5$ rad/s for both cases. Consider $u=0$ and the pendulum is oscillating freely. Ditto for $d=0$ scenario. Refer to the plots in the slides to verify your results.\n",
    "Discuss how does the pendulum's behavior change, for large and small damping coefficients. If the motor had friction, will the system equation change? (15 points)"
   ]
  },
  {
   "cell_type": "markdown",
   "metadata": {},
   "source": [
    "**Part (f)**\n",
    "Let's implement a full state linear feedback controller (LQR) to stabilize the pendulum at the upper fixed point. Let's first identify the dimensions of the $Q$ and $R$ weight matrices. Consider the objective function for LQR, $J = (x - x^*)^TQ(x - x^*) + (u - u^*)^TR(u - u^*)$. \n",
    "\n",
    "Here $x, x^* \\in \\mathbf{R}^{2 \\times 1}$ and, denote the current state vector and the state vector at the fixed points. Similarly, $u, u^* \\in \\mathbf{R}$ and denote the current control vector and the control vector at the fixed points. Therefore we can understand $ Q \\in \\mathbb{R}^{2 \\times 2}$ and $ R \\in \\mathbb{R}$ to reallize the matrix multiplication in the cost function.\n",
    "\n",
    "At the fixed points we like the system to be stationary, thus we use the fixed point state of the system as $x^* = [0, 0]^T$. This means that the system is stabilized at the upper fixed point with $\\theta = 0$ and zero angular velocity, $\\dot{\\theta}=0$. Further, as the pendulum is capable of stabilizing by it's own, our desired $u^* = 0$. However, in the differentiation $u$ gets cancelled and we can ignore $u^*$.\n",
    "\n",
    "Use **control.lqr(A, B, Q, R)** function in python to compute the gain matrix $k$ for the control rule $u = -k (x-x^*)$ at the upper fixed point. Make sure to use the corresponding $A$ matrix. Find the documentation for the lqr function at https://python-control.readthedocs.io/en/0.8.3/generated/control.lqr.html.\n",
    "\n",
    "Plot the change of the two state variables $\\theta$, $\\dot{\\theta}$ against time for following $Q$ and $R$ matrices. Visualize the swing of the pendulum with the animate code provided herewith.\n",
    "\n",
    "Case 1:\n",
    "$ Q = \\begin{bmatrix}\n",
    "100 & 0 \\\\\n",
    "0 & 100 \n",
    "\\end{bmatrix}  $ $R = [1]$\n",
    "\n",
    "Case 2:\n",
    "$ Q = \\begin{bmatrix}\n",
    "500 & 0 \\\\\n",
    "0 & 500 \n",
    "\\end{bmatrix}  $ $R = [1]$ \n",
    "\n",
    "Discuss why does the system behave differently in two different cases by referring to the cost function $J$. (30 points)"
   ]
  },
  {
   "cell_type": "code",
   "execution_count": 30,
   "metadata": {},
   "outputs": [],
   "source": [
    "from scipy.integrate import odeint\n",
    "import numpy as np\n",
    "import pylab as p \n",
    "import math\n",
    "import control\n",
    "\n",
    "# gravitational acceleration\n",
    "g = -10\n",
    "\n",
    "# length of the pendulum arm\n",
    "L = 2\n",
    "\n",
    "# integration duration and period\n",
    "period = 0.01\n",
    "duration = 10"
   ]
  },
  {
   "cell_type": "code",
   "execution_count": 27,
   "metadata": {},
   "outputs": [],
   "source": [
    "# integration function\n",
    "# k: is the gain matrix (2x1) computed by LQR\n",
    "# d: damping coefficient\n",
    "# goal: desired fixed point\n",
    "def f(x, t, x_star, k, d):\n",
    "    \n",
    "#     calculate the error/deviation from the fixed point x_bar = x-x*\n",
    "    \n",
    "#     use the control law u = -kx_bar\n",
    "#     checkout for matrix dimensions\n",
    "\n",
    "#     write your differential equations to update theta and thetadot\n",
    "# d_theta = \n",
    "# d_thetadot = \n",
    "\n",
    "#     use newly calculated u in the equations\n",
    "    \n",
    "    f_dot = [d_theta, d_thetadot]\n",
    "    return f_dot"
   ]
  },
  {
   "cell_type": "code",
   "execution_count": 28,
   "metadata": {},
   "outputs": [
    {
     "data": {
      "image/png": "[encoded data removed]",
      "text/plain": [
       "<Figure size 432x288 with 2 Axes>"
      ]
     },
     "metadata": {
      "needs_background": "light"
     },
     "output_type": "display_data"
    }
   ],
   "source": [
    "# weight matrices\n",
    "Q = np.eye(2)*200\n",
    "R = np.matrix([[1]])\n",
    "\n",
    "# damping coefficient\n",
    "d = 0\n",
    "\n",
    "# A matrix for the upper and down fixed point\n",
    "# Au = \n",
    "# Ad = \n",
    "\n",
    "# B matrix \n",
    "# B = \n",
    "\n",
    "# get the gain matrix for stabilizing the system (ignore s and e return values)\n",
    "# k, s, e = control.lqr(A, B, Q, R)\n",
    "# k = np.matrix(k)\n",
    "\n",
    "# initial condition (change this accordingly)\n",
    "# y0 = \n",
    "\n",
    "# desired fp to stabilize the system\n",
    "# fixed_upper = [0, 0]\n",
    "\n",
    "# use traj to store integration values\n",
    "# traj = y0\n",
    "\n",
    "\n",
    "# simulate system\n",
    "step = 0.01\n",
    "duration = 10\n",
    "\n",
    "# integrate the system every second using odeint. use step as the integration step\n",
    "# the final state of each second should be the initial condition for next second\n",
    "# use traj variable to store the change in theta and thetadot by appending the results of each integration\n",
    "\n",
    "# times for simulation and plotting\n",
    "ts = np.transpose(np.linspace(0, duration, len(traj)))\n",
    "\n",
    "# plot the angle\n",
    "p.figure(0)\n",
    "p.suptitle('State Change')\n",
    "p.subplot(2, 1, 1)\n",
    "p.plot(ts, traj[:,0],'-r', label='Angle (rad)')\n",
    "p.grid('on')\n",
    "p.legend(loc='best')\n",
    "\n",
    "# plot the angular velocity\n",
    "p.subplot(2, 1, 2)\n",
    "p.plot(ts, traj[:,1], '-b', label='Angular Velocity (rad/s)')\n",
    "p.grid('on')\n",
    "p.legend(loc='best')\n",
    "p.show()\n"
   ]
  },
  {
   "cell_type": "markdown",
   "metadata": {},
   "source": [
    "**Animation code**"
   ]
  },
  {
   "cell_type": "code",
   "execution_count": 29,
   "metadata": {},
   "outputs": [
    {
     "data": {
      "image/png": "[encoded data removed]",
      "text/plain": [
       "<Figure size 480x480 with 1 Axes>"
      ]
     },
     "metadata": {
      "needs_background": "light"
     },
     "output_type": "display_data"
    }
   ],
   "source": [
    "# visualize trajectory\n",
    "from matplotlib.animation import FuncAnimation\n",
    "\n",
    "fig = p.figure(figsize=(6, 6),dpi=80)\n",
    "ax = p.axes(xlim=(-3, 3), ylim=(-3, 3))\n",
    "line, = ax.plot([], [], lw=3, color='black')\n",
    "circle = p.Circle((0, 2), 0.2, color='r')\n",
    "ax.add_patch(circle)\n",
    "p.grid('on')\n",
    "\n",
    "def animate(i):\n",
    "#     read the angle theta from the trajectory\n",
    "    theta = traj[i*10, 0]\n",
    "#     set the pendulum end position\n",
    "    pendx = L*np.sin(theta)\n",
    "    pendy = L*np.cos(theta)\n",
    "   \n",
    "    line.set_xdata(np.array([0, pendx]))\n",
    "    line.set_ydata(np.array([0, pendy]))\n",
    "    circle.center = (pendx, pendy)\n",
    "    return line,\n",
    "\n",
    "# only use every 10th frame to animate faster\n",
    "anim = FuncAnimation(fig, animate, frames= 100, interval=0.1, blit=True)\n",
    "anim.save('pendulum.gif', writer='imagemagick')"
   ]
  }
 ],
 "metadata": {
  "kernelspec": {
   "display_name": "Python 3",
   "language": "python",
   "name": "python3"
  },
  "language_info": {
   "codemirror_mode": {
    "name": "ipython",
    "version": 3
   },
   "file_extension": ".py",
   "mimetype": "text/x-python",
   "name": "python",
   "nbconvert_exporter": "python",
   "pygments_lexer": "ipython3",
   "version": "3.8.5"
  }
 },
 "nbformat": 4,
 "nbformat_minor": 4
}
